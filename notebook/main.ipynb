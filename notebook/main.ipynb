{
 "cells": [
  {
   "cell_type": "markdown",
   "metadata": {},
   "source": [
    "# BERT 기반 한국어 감성 분석\n",
    "\n",
    "## 1. bert-base-multilingual-cased\n",
    "    * transformers 의 Bert tokenzier, Bert for sequence classification\n",
    "    * 도서 \"딥 러닝을 통한 자연어 처리 입문\" 참고\n",
    "\n",
    "## 2. KoBERT\n",
    "    * SKTBrain 팀이 개발한 Bert 모델 기반 한국어 성능 향상\n",
    "    * Model 내부 및 예측 흐름 확인\n",
    "    \n",
    "## 3. Conclusion\n",
    "    * 임의의 input 문장이 들어왔을 때 긍정/부정 판별\n",
    "    * 두 개의 모델 Accuracy 비교\n",
    "    * 학습 내용 시각화"
   ]
  },
  {
   "cell_type": "markdown",
   "metadata": {},
   "source": [
    "### import modules "
   ]
  },
  {
   "cell_type": "code",
   "execution_count": 1,
   "metadata": {},
   "outputs": [],
   "source": [
    "# import modules\n",
    "import datetime\n",
    "import time\n",
    "import random\n",
    "\n",
    "# for data analyze and wrangling\n",
    "import pandas as pd\n",
    "import numpy as np\n",
    "import matplotlib.pyplot as plt\n",
    "import seaborn as sns\n",
    "import re\n",
    "import urllib.request\n",
    "from tqdm import tqdm, notebook\n",
    "\n",
    "\n",
    "# machine learning\n",
    "from tensorflow.keras.preprocessing.text import Tokenizer\n",
    "from tensorflow.keras.preprocessing.sequence import pad_sequences\n",
    "from tensorflow.keras.layers import Embedding, Dense, LSTM\n",
    "from tensorflow.keras.models import Sequential\n",
    "from tensorflow.keras.models import load_model\n",
    "from tensorflow.keras.callbacks import EarlyStopping, ModelCheckpoint\n",
    "import torch\n",
    "from torch import nn\n",
    "from torch.utils.data import TensorDataset, DataLoader, RandomSampler, SequentialSampler\n",
    "import torch.nn.functional as F\n",
    "import torch.optim as optim\n",
    "from torch.utils.data import Dataset, DataLoader\n",
    "from transformers import DataCollatorWithPadding\n",
    "from transformers import BertTokenizer\n",
    "from transformers import BertForSequenceClassification, AdamW, BertConfig\n",
    "from transformers import get_linear_schedule_with_warmup\n",
    "from transformers import BertModel\n",
    "from transformers.optimization import get_cosine_schedule_with_warmup\n",
    "from sklearn.model_selection import train_test_split\n",
    "import gluonnlp as nlp\n",
    "\n",
    "\n",
    "# kobert\n",
    "from kobert_tokenizer import KoBERTTokenizer\n"
   ]
  },
  {
   "cell_type": "code",
   "execution_count": 2,
   "metadata": {},
   "outputs": [
    {
     "name": "stdout",
     "output_type": "stream",
     "text": [
      "numbers of train data: 150000\n",
      "numbers of test data: 50000\n"
     ]
    },
    {
     "data": {
      "text/html": [
       "<div>\n",
       "<style scoped>\n",
       "    .dataframe tbody tr th:only-of-type {\n",
       "        vertical-align: middle;\n",
       "    }\n",
       "\n",
       "    .dataframe tbody tr th {\n",
       "        vertical-align: top;\n",
       "    }\n",
       "\n",
       "    .dataframe thead th {\n",
       "        text-align: right;\n",
       "    }\n",
       "</style>\n",
       "<table border=\"1\" class=\"dataframe\">\n",
       "  <thead>\n",
       "    <tr style=\"text-align: right;\">\n",
       "      <th></th>\n",
       "      <th>document</th>\n",
       "      <th>label</th>\n",
       "    </tr>\n",
       "  </thead>\n",
       "  <tbody>\n",
       "    <tr>\n",
       "      <th>0</th>\n",
       "      <td>아 더빙.. 진짜 짜증나네요 목소리</td>\n",
       "      <td>0</td>\n",
       "    </tr>\n",
       "    <tr>\n",
       "      <th>1</th>\n",
       "      <td>흠...포스터보고 초딩영화줄....오버연기조차 가볍지 않구나</td>\n",
       "      <td>1</td>\n",
       "    </tr>\n",
       "  </tbody>\n",
       "</table>\n",
       "</div>"
      ],
      "text/plain": [
       "                            document  label\n",
       "0                아 더빙.. 진짜 짜증나네요 목소리      0\n",
       "1  흠...포스터보고 초딩영화줄....오버연기조차 가볍지 않구나      1"
      ]
     },
     "execution_count": 2,
     "metadata": {},
     "output_type": "execute_result"
    }
   ],
   "source": [
    "# import dataset\n",
    "# urllib.request.urlretrieve(\"https://raw.githubusercontent.com/e9t/nsmc/master/ratings_train.txt\", filename=\"ratings_train.txt\")\n",
    "# urllib.request.urlretrieve(\"https://raw.githubusercontent.com/e9t/nsmc/master/ratings_test.txt\", filename=\"ratings_test.txt\")\n",
    "\n",
    "train = pd.read_table(\"ratings_train.txt\", usecols = ['document','label'])\n",
    "test = pd.read_table(\"ratings_test.txt\", usecols = ['document','label'])\n",
    "\n",
    "print(f'numbers of train data: {len(train)}')\n",
    "print(f'numbers of test data: {len(test)}')\n",
    "train.head(2)"
   ]
  },
  {
   "cell_type": "markdown",
   "metadata": {},
   "source": [
    "### Data preprocessing"
   ]
  },
  {
   "cell_type": "code",
   "execution_count": 3,
   "metadata": {},
   "outputs": [
    {
     "name": "stderr",
     "output_type": "stream",
     "text": [
      "<ipython-input-3-4a98031647ec>:4: FutureWarning: The default value of regex will change from True to False in a future version.\n",
      "  train['document'] = train['document'].str.replace(\"[^ㄱ-ㅎㅏ-ㅣ가-힣 ]\",\"\")\n",
      "<ipython-input-3-4a98031647ec>:5: FutureWarning: The default value of regex will change from True to False in a future version.\n",
      "  train['document'] = train['document'].str.replace('^ +', \"\")\n"
     ]
    },
    {
     "name": "stdout",
     "output_type": "stream",
     "text": [
      "tokeinzed text : ['[CLS]', '아', '더', '##빙', '진', '##짜', '짜', '##증', '##나', '##네', '##요', '목', '##소', '##리', '[SEP]']\n"
     ]
    }
   ],
   "source": [
    "# train data preprocessing\n",
    "# CLS : classifier\n",
    "# SEP : separator\n",
    "train['document'] = train['document'].str.replace(\"[^ㄱ-ㅎㅏ-ㅣ가-힣 ]\",\"\")\n",
    "train['document'] = train['document'].str.replace('^ +', \"\")\n",
    "train['document'].replace('', np.nan, inplace=True)\n",
    "train = train.dropna(how = 'any')\n",
    "\n",
    "# before tokenizing\n",
    "document_bert = [\"[CLS] \" + str(s) + \" [SEP]\" for s in train['document']]\n",
    "\n",
    "# tokenizing\n",
    "tokenizer = BertTokenizer.from_pretrained('bert-base-multilingual-cased', do_lower_case=False)\n",
    "tokenized_texts = [tokenizer.tokenize(s) for s in document_bert]\n",
    "print(f\"tokeinzed text : {tokenized_texts[0]}\")\n",
    "\n",
    "# padding\n",
    "MAX_LEN = max([len(s) for s in tokenized_texts]) + 1\n",
    "input_ids = [tokenizer.convert_tokens_to_ids(x) for x in tokenized_texts]\n",
    "input_ids = pad_sequences(input_ids, maxlen=MAX_LEN, dtype='long', truncating='post', padding='post')\n",
    "\n",
    "# attention mask\n",
    "attention_masks = []\n",
    "\n",
    "for seq in input_ids:\n",
    "    seq_mask = [float(i>0) for i in seq]\n",
    "    attention_masks.append(seq_mask)\n",
    "\n",
    "# split train and validation set   \n",
    "train_inputs, validation_inputs, train_labels, validation_labels = \\\n",
    "    train_test_split(input_ids, train['label'].values, random_state=42, test_size=0.1)\n",
    "\n",
    "# attention mask for train and validation set\n",
    "train_masks, validation_masks, _, _ = train_test_split(attention_masks, \n",
    "                                                       input_ids,\n",
    "                                                       random_state=42, \n",
    "                                                       test_size=0.1)\n",
    "\n",
    "# convert to tensor\n",
    "train_inputs = torch.tensor(train_inputs)\n",
    "train_labels = torch.tensor(train_labels)\n",
    "train_masks = torch.tensor(train_masks)\n",
    "validation_inputs = torch.tensor(validation_inputs)\n",
    "validation_labels = torch.tensor(validation_labels)\n",
    "validation_masks = torch.tensor(validation_masks)\n",
    "\n",
    "# data loader\n",
    "BATCH_SIZE = 32\n",
    "\n",
    "train_data = TensorDataset(train_inputs, train_masks, train_labels)\n",
    "train_sampler = RandomSampler(train_data)\n",
    "train_dataloader = DataLoader(\n",
    "                        train_data, # which is converted to a TensorDataset\n",
    "                        sampler=train_sampler, # reason of no shuffle is that we need to use validation set\n",
    "                        batch_size=BATCH_SIZE,\n",
    "                        pin_memory=True, # GPU memory\n",
    "                        num_workers=4, # for parallel processing\n",
    "                        )\n",
    "\n",
    "validation_data = TensorDataset(validation_inputs, validation_masks, validation_labels)\n",
    "validation_sampler = SequentialSampler(validation_data)\n",
    "validation_dataloader = DataLoader(\n",
    "                        validation_data,\n",
    "                        sampler=validation_sampler, \n",
    "                        batch_size=BATCH_SIZE,\n",
    "                        pin_memory=True,\n",
    "                        num_workers=4,\n",
    "                        )"
   ]
  },
  {
   "cell_type": "code",
   "execution_count": 4,
   "metadata": {},
   "outputs": [
    {
     "name": "stderr",
     "output_type": "stream",
     "text": [
      "<ipython-input-4-df121774fae7>:3: FutureWarning: The default value of regex will change from True to False in a future version.\n",
      "  test['document'] = test['document'].str.replace(\"[^ㄱ-ㅎㅏ-ㅣ가-힣 ]\",\"\")\n",
      "<ipython-input-4-df121774fae7>:4: FutureWarning: The default value of regex will change from True to False in a future version.\n",
      "  test['document'] = test['document'].str.replace('^ +', \"\")\n"
     ]
    }
   ],
   "source": [
    "# test data preprocessing\n",
    "\n",
    "test['document'] = test['document'].str.replace(\"[^ㄱ-ㅎㅏ-ㅣ가-힣 ]\",\"\")\n",
    "test['document'] = test['document'].str.replace('^ +', \"\")\n",
    "test['document'].replace('', np.nan, inplace=True)\n",
    "test = test.dropna(how = 'any')\n",
    "\n",
    "sentences = [\"[CLS] \" + str(sentence) + \" [SEP]\" for sentence in test['document']]\n",
    "labels = test['label'].values\n",
    "\n",
    "tokenized_texts = [tokenizer.tokenize(sent) for sent in sentences]\n",
    "\n",
    "input_ids = [tokenizer.convert_tokens_to_ids(x) for x in tokenized_texts]\n",
    "input_ids = pad_sequences(input_ids, maxlen=MAX_LEN, dtype=\"long\", truncating=\"post\", padding=\"post\")\n",
    "\n",
    "attention_masks = []\n",
    "for seq in input_ids:\n",
    "    seq_mask = [float(i>0) for i in seq]\n",
    "    attention_masks.append(seq_mask)\n",
    "\n",
    "test_inputs = torch.tensor(input_ids)\n",
    "test_labels = torch.tensor(labels)\n",
    "test_masks = torch.tensor(attention_masks)\n",
    "\n",
    "test_data = TensorDataset(test_inputs, test_masks, test_labels)\n",
    "test_sampler = RandomSampler(test_data)\n",
    "test_dataloader = DataLoader(\n",
    "                    test_data, # which is converted to a TensorDataset\n",
    "                    sampler=test_sampler, # reason of no shuffle is that we need to use validation set\n",
    "                    batch_size=BATCH_SIZE,\n",
    "                    pin_memory=True, # GPU memory\n",
    "                    num_workers=4, # for parallel processing\n",
    "                    )"
   ]
  },
  {
   "cell_type": "markdown",
   "metadata": {},
   "source": [
    "### GPU check (cuda)"
   ]
  },
  {
   "cell_type": "code",
   "execution_count": 5,
   "metadata": {},
   "outputs": [
    {
     "name": "stdout",
     "output_type": "stream",
     "text": [
      "There are 1 GPU(s) available.\n",
      "We will use the GPU: Tesla V100-SXM3-32GB\n"
     ]
    }
   ],
   "source": [
    "if torch.cuda.is_available():    \n",
    "    device = torch.device(\"cuda\")\n",
    "    print('There are %d GPU(s) available.' % torch.cuda.device_count())\n",
    "    print('We will use the GPU:', torch.cuda.get_device_name(0))\n",
    "else:\n",
    "    device = torch.device(\"cpu\")\n",
    "    print('No GPU available, using the CPU instead.')"
   ]
  },
  {
   "cell_type": "markdown",
   "metadata": {},
   "source": [
    "## 1. bert-base-multilingual-cased\n",
    "\n",
    "    * transformers 의 Bert tokenzier, Bert for sequence classification\n",
    "    * 도서 \"딥 러닝을 통한 자연어 처리 입문\" 참고했고, 커스터마이징을 진행했습니다.\n",
    "    * 코드 내부적으로 흐름을 파악하기 위해 Arguments를 바꿔가며 실험했습니다."
   ]
  },
  {
   "cell_type": "code",
   "execution_count": 6,
   "metadata": {},
   "outputs": [
    {
     "name": "stderr",
     "output_type": "stream",
     "text": [
      "Some weights of the model checkpoint at bert-base-multilingual-cased were not used when initializing BertForSequenceClassification: ['cls.predictions.transform.dense.weight', 'cls.predictions.transform.LayerNorm.bias', 'cls.predictions.decoder.weight', 'cls.seq_relationship.weight', 'cls.predictions.bias', 'cls.predictions.transform.dense.bias', 'cls.seq_relationship.bias', 'cls.predictions.transform.LayerNorm.weight']\n",
      "- This IS expected if you are initializing BertForSequenceClassification from the checkpoint of a model trained on another task or with another architecture (e.g. initializing a BertForSequenceClassification model from a BertForPreTraining model).\n",
      "- This IS NOT expected if you are initializing BertForSequenceClassification from the checkpoint of a model that you expect to be exactly identical (initializing a BertForSequenceClassification model from a BertForSequenceClassification model).\n",
      "Some weights of BertForSequenceClassification were not initialized from the model checkpoint at bert-base-multilingual-cased and are newly initialized: ['classifier.weight', 'classifier.bias']\n",
      "You should probably TRAIN this model on a down-stream task to be able to use it for predictions and inference.\n"
     ]
    },
    {
     "data": {
      "text/plain": [
       "BertForSequenceClassification(\n",
       "  (bert): BertModel(\n",
       "    (embeddings): BertEmbeddings(\n",
       "      (word_embeddings): Embedding(119547, 768, padding_idx=0)\n",
       "      (position_embeddings): Embedding(512, 768)\n",
       "      (token_type_embeddings): Embedding(2, 768)\n",
       "      (LayerNorm): LayerNorm((768,), eps=1e-12, elementwise_affine=True)\n",
       "      (dropout): Dropout(p=0.1, inplace=False)\n",
       "    )\n",
       "    (encoder): BertEncoder(\n",
       "      (layer): ModuleList(\n",
       "        (0): BertLayer(\n",
       "          (attention): BertAttention(\n",
       "            (self): BertSelfAttention(\n",
       "              (query): Linear(in_features=768, out_features=768, bias=True)\n",
       "              (key): Linear(in_features=768, out_features=768, bias=True)\n",
       "              (value): Linear(in_features=768, out_features=768, bias=True)\n",
       "              (dropout): Dropout(p=0.1, inplace=False)\n",
       "            )\n",
       "            (output): BertSelfOutput(\n",
       "              (dense): Linear(in_features=768, out_features=768, bias=True)\n",
       "              (LayerNorm): LayerNorm((768,), eps=1e-12, elementwise_affine=True)\n",
       "              (dropout): Dropout(p=0.1, inplace=False)\n",
       "            )\n",
       "          )\n",
       "          (intermediate): BertIntermediate(\n",
       "            (dense): Linear(in_features=768, out_features=3072, bias=True)\n",
       "            (intermediate_act_fn): GELUActivation()\n",
       "          )\n",
       "          (output): BertOutput(\n",
       "            (dense): Linear(in_features=3072, out_features=768, bias=True)\n",
       "            (LayerNorm): LayerNorm((768,), eps=1e-12, elementwise_affine=True)\n",
       "            (dropout): Dropout(p=0.1, inplace=False)\n",
       "          )\n",
       "        )\n",
       "        (1): BertLayer(\n",
       "          (attention): BertAttention(\n",
       "            (self): BertSelfAttention(\n",
       "              (query): Linear(in_features=768, out_features=768, bias=True)\n",
       "              (key): Linear(in_features=768, out_features=768, bias=True)\n",
       "              (value): Linear(in_features=768, out_features=768, bias=True)\n",
       "              (dropout): Dropout(p=0.1, inplace=False)\n",
       "            )\n",
       "            (output): BertSelfOutput(\n",
       "              (dense): Linear(in_features=768, out_features=768, bias=True)\n",
       "              (LayerNorm): LayerNorm((768,), eps=1e-12, elementwise_affine=True)\n",
       "              (dropout): Dropout(p=0.1, inplace=False)\n",
       "            )\n",
       "          )\n",
       "          (intermediate): BertIntermediate(\n",
       "            (dense): Linear(in_features=768, out_features=3072, bias=True)\n",
       "            (intermediate_act_fn): GELUActivation()\n",
       "          )\n",
       "          (output): BertOutput(\n",
       "            (dense): Linear(in_features=3072, out_features=768, bias=True)\n",
       "            (LayerNorm): LayerNorm((768,), eps=1e-12, elementwise_affine=True)\n",
       "            (dropout): Dropout(p=0.1, inplace=False)\n",
       "          )\n",
       "        )\n",
       "        (2): BertLayer(\n",
       "          (attention): BertAttention(\n",
       "            (self): BertSelfAttention(\n",
       "              (query): Linear(in_features=768, out_features=768, bias=True)\n",
       "              (key): Linear(in_features=768, out_features=768, bias=True)\n",
       "              (value): Linear(in_features=768, out_features=768, bias=True)\n",
       "              (dropout): Dropout(p=0.1, inplace=False)\n",
       "            )\n",
       "            (output): BertSelfOutput(\n",
       "              (dense): Linear(in_features=768, out_features=768, bias=True)\n",
       "              (LayerNorm): LayerNorm((768,), eps=1e-12, elementwise_affine=True)\n",
       "              (dropout): Dropout(p=0.1, inplace=False)\n",
       "            )\n",
       "          )\n",
       "          (intermediate): BertIntermediate(\n",
       "            (dense): Linear(in_features=768, out_features=3072, bias=True)\n",
       "            (intermediate_act_fn): GELUActivation()\n",
       "          )\n",
       "          (output): BertOutput(\n",
       "            (dense): Linear(in_features=3072, out_features=768, bias=True)\n",
       "            (LayerNorm): LayerNorm((768,), eps=1e-12, elementwise_affine=True)\n",
       "            (dropout): Dropout(p=0.1, inplace=False)\n",
       "          )\n",
       "        )\n",
       "        (3): BertLayer(\n",
       "          (attention): BertAttention(\n",
       "            (self): BertSelfAttention(\n",
       "              (query): Linear(in_features=768, out_features=768, bias=True)\n",
       "              (key): Linear(in_features=768, out_features=768, bias=True)\n",
       "              (value): Linear(in_features=768, out_features=768, bias=True)\n",
       "              (dropout): Dropout(p=0.1, inplace=False)\n",
       "            )\n",
       "            (output): BertSelfOutput(\n",
       "              (dense): Linear(in_features=768, out_features=768, bias=True)\n",
       "              (LayerNorm): LayerNorm((768,), eps=1e-12, elementwise_affine=True)\n",
       "              (dropout): Dropout(p=0.1, inplace=False)\n",
       "            )\n",
       "          )\n",
       "          (intermediate): BertIntermediate(\n",
       "            (dense): Linear(in_features=768, out_features=3072, bias=True)\n",
       "            (intermediate_act_fn): GELUActivation()\n",
       "          )\n",
       "          (output): BertOutput(\n",
       "            (dense): Linear(in_features=3072, out_features=768, bias=True)\n",
       "            (LayerNorm): LayerNorm((768,), eps=1e-12, elementwise_affine=True)\n",
       "            (dropout): Dropout(p=0.1, inplace=False)\n",
       "          )\n",
       "        )\n",
       "        (4): BertLayer(\n",
       "          (attention): BertAttention(\n",
       "            (self): BertSelfAttention(\n",
       "              (query): Linear(in_features=768, out_features=768, bias=True)\n",
       "              (key): Linear(in_features=768, out_features=768, bias=True)\n",
       "              (value): Linear(in_features=768, out_features=768, bias=True)\n",
       "              (dropout): Dropout(p=0.1, inplace=False)\n",
       "            )\n",
       "            (output): BertSelfOutput(\n",
       "              (dense): Linear(in_features=768, out_features=768, bias=True)\n",
       "              (LayerNorm): LayerNorm((768,), eps=1e-12, elementwise_affine=True)\n",
       "              (dropout): Dropout(p=0.1, inplace=False)\n",
       "            )\n",
       "          )\n",
       "          (intermediate): BertIntermediate(\n",
       "            (dense): Linear(in_features=768, out_features=3072, bias=True)\n",
       "            (intermediate_act_fn): GELUActivation()\n",
       "          )\n",
       "          (output): BertOutput(\n",
       "            (dense): Linear(in_features=3072, out_features=768, bias=True)\n",
       "            (LayerNorm): LayerNorm((768,), eps=1e-12, elementwise_affine=True)\n",
       "            (dropout): Dropout(p=0.1, inplace=False)\n",
       "          )\n",
       "        )\n",
       "        (5): BertLayer(\n",
       "          (attention): BertAttention(\n",
       "            (self): BertSelfAttention(\n",
       "              (query): Linear(in_features=768, out_features=768, bias=True)\n",
       "              (key): Linear(in_features=768, out_features=768, bias=True)\n",
       "              (value): Linear(in_features=768, out_features=768, bias=True)\n",
       "              (dropout): Dropout(p=0.1, inplace=False)\n",
       "            )\n",
       "            (output): BertSelfOutput(\n",
       "              (dense): Linear(in_features=768, out_features=768, bias=True)\n",
       "              (LayerNorm): LayerNorm((768,), eps=1e-12, elementwise_affine=True)\n",
       "              (dropout): Dropout(p=0.1, inplace=False)\n",
       "            )\n",
       "          )\n",
       "          (intermediate): BertIntermediate(\n",
       "            (dense): Linear(in_features=768, out_features=3072, bias=True)\n",
       "            (intermediate_act_fn): GELUActivation()\n",
       "          )\n",
       "          (output): BertOutput(\n",
       "            (dense): Linear(in_features=3072, out_features=768, bias=True)\n",
       "            (LayerNorm): LayerNorm((768,), eps=1e-12, elementwise_affine=True)\n",
       "            (dropout): Dropout(p=0.1, inplace=False)\n",
       "          )\n",
       "        )\n",
       "        (6): BertLayer(\n",
       "          (attention): BertAttention(\n",
       "            (self): BertSelfAttention(\n",
       "              (query): Linear(in_features=768, out_features=768, bias=True)\n",
       "              (key): Linear(in_features=768, out_features=768, bias=True)\n",
       "              (value): Linear(in_features=768, out_features=768, bias=True)\n",
       "              (dropout): Dropout(p=0.1, inplace=False)\n",
       "            )\n",
       "            (output): BertSelfOutput(\n",
       "              (dense): Linear(in_features=768, out_features=768, bias=True)\n",
       "              (LayerNorm): LayerNorm((768,), eps=1e-12, elementwise_affine=True)\n",
       "              (dropout): Dropout(p=0.1, inplace=False)\n",
       "            )\n",
       "          )\n",
       "          (intermediate): BertIntermediate(\n",
       "            (dense): Linear(in_features=768, out_features=3072, bias=True)\n",
       "            (intermediate_act_fn): GELUActivation()\n",
       "          )\n",
       "          (output): BertOutput(\n",
       "            (dense): Linear(in_features=3072, out_features=768, bias=True)\n",
       "            (LayerNorm): LayerNorm((768,), eps=1e-12, elementwise_affine=True)\n",
       "            (dropout): Dropout(p=0.1, inplace=False)\n",
       "          )\n",
       "        )\n",
       "        (7): BertLayer(\n",
       "          (attention): BertAttention(\n",
       "            (self): BertSelfAttention(\n",
       "              (query): Linear(in_features=768, out_features=768, bias=True)\n",
       "              (key): Linear(in_features=768, out_features=768, bias=True)\n",
       "              (value): Linear(in_features=768, out_features=768, bias=True)\n",
       "              (dropout): Dropout(p=0.1, inplace=False)\n",
       "            )\n",
       "            (output): BertSelfOutput(\n",
       "              (dense): Linear(in_features=768, out_features=768, bias=True)\n",
       "              (LayerNorm): LayerNorm((768,), eps=1e-12, elementwise_affine=True)\n",
       "              (dropout): Dropout(p=0.1, inplace=False)\n",
       "            )\n",
       "          )\n",
       "          (intermediate): BertIntermediate(\n",
       "            (dense): Linear(in_features=768, out_features=3072, bias=True)\n",
       "            (intermediate_act_fn): GELUActivation()\n",
       "          )\n",
       "          (output): BertOutput(\n",
       "            (dense): Linear(in_features=3072, out_features=768, bias=True)\n",
       "            (LayerNorm): LayerNorm((768,), eps=1e-12, elementwise_affine=True)\n",
       "            (dropout): Dropout(p=0.1, inplace=False)\n",
       "          )\n",
       "        )\n",
       "        (8): BertLayer(\n",
       "          (attention): BertAttention(\n",
       "            (self): BertSelfAttention(\n",
       "              (query): Linear(in_features=768, out_features=768, bias=True)\n",
       "              (key): Linear(in_features=768, out_features=768, bias=True)\n",
       "              (value): Linear(in_features=768, out_features=768, bias=True)\n",
       "              (dropout): Dropout(p=0.1, inplace=False)\n",
       "            )\n",
       "            (output): BertSelfOutput(\n",
       "              (dense): Linear(in_features=768, out_features=768, bias=True)\n",
       "              (LayerNorm): LayerNorm((768,), eps=1e-12, elementwise_affine=True)\n",
       "              (dropout): Dropout(p=0.1, inplace=False)\n",
       "            )\n",
       "          )\n",
       "          (intermediate): BertIntermediate(\n",
       "            (dense): Linear(in_features=768, out_features=3072, bias=True)\n",
       "            (intermediate_act_fn): GELUActivation()\n",
       "          )\n",
       "          (output): BertOutput(\n",
       "            (dense): Linear(in_features=3072, out_features=768, bias=True)\n",
       "            (LayerNorm): LayerNorm((768,), eps=1e-12, elementwise_affine=True)\n",
       "            (dropout): Dropout(p=0.1, inplace=False)\n",
       "          )\n",
       "        )\n",
       "        (9): BertLayer(\n",
       "          (attention): BertAttention(\n",
       "            (self): BertSelfAttention(\n",
       "              (query): Linear(in_features=768, out_features=768, bias=True)\n",
       "              (key): Linear(in_features=768, out_features=768, bias=True)\n",
       "              (value): Linear(in_features=768, out_features=768, bias=True)\n",
       "              (dropout): Dropout(p=0.1, inplace=False)\n",
       "            )\n",
       "            (output): BertSelfOutput(\n",
       "              (dense): Linear(in_features=768, out_features=768, bias=True)\n",
       "              (LayerNorm): LayerNorm((768,), eps=1e-12, elementwise_affine=True)\n",
       "              (dropout): Dropout(p=0.1, inplace=False)\n",
       "            )\n",
       "          )\n",
       "          (intermediate): BertIntermediate(\n",
       "            (dense): Linear(in_features=768, out_features=3072, bias=True)\n",
       "            (intermediate_act_fn): GELUActivation()\n",
       "          )\n",
       "          (output): BertOutput(\n",
       "            (dense): Linear(in_features=3072, out_features=768, bias=True)\n",
       "            (LayerNorm): LayerNorm((768,), eps=1e-12, elementwise_affine=True)\n",
       "            (dropout): Dropout(p=0.1, inplace=False)\n",
       "          )\n",
       "        )\n",
       "        (10): BertLayer(\n",
       "          (attention): BertAttention(\n",
       "            (self): BertSelfAttention(\n",
       "              (query): Linear(in_features=768, out_features=768, bias=True)\n",
       "              (key): Linear(in_features=768, out_features=768, bias=True)\n",
       "              (value): Linear(in_features=768, out_features=768, bias=True)\n",
       "              (dropout): Dropout(p=0.1, inplace=False)\n",
       "            )\n",
       "            (output): BertSelfOutput(\n",
       "              (dense): Linear(in_features=768, out_features=768, bias=True)\n",
       "              (LayerNorm): LayerNorm((768,), eps=1e-12, elementwise_affine=True)\n",
       "              (dropout): Dropout(p=0.1, inplace=False)\n",
       "            )\n",
       "          )\n",
       "          (intermediate): BertIntermediate(\n",
       "            (dense): Linear(in_features=768, out_features=3072, bias=True)\n",
       "            (intermediate_act_fn): GELUActivation()\n",
       "          )\n",
       "          (output): BertOutput(\n",
       "            (dense): Linear(in_features=3072, out_features=768, bias=True)\n",
       "            (LayerNorm): LayerNorm((768,), eps=1e-12, elementwise_affine=True)\n",
       "            (dropout): Dropout(p=0.1, inplace=False)\n",
       "          )\n",
       "        )\n",
       "        (11): BertLayer(\n",
       "          (attention): BertAttention(\n",
       "            (self): BertSelfAttention(\n",
       "              (query): Linear(in_features=768, out_features=768, bias=True)\n",
       "              (key): Linear(in_features=768, out_features=768, bias=True)\n",
       "              (value): Linear(in_features=768, out_features=768, bias=True)\n",
       "              (dropout): Dropout(p=0.1, inplace=False)\n",
       "            )\n",
       "            (output): BertSelfOutput(\n",
       "              (dense): Linear(in_features=768, out_features=768, bias=True)\n",
       "              (LayerNorm): LayerNorm((768,), eps=1e-12, elementwise_affine=True)\n",
       "              (dropout): Dropout(p=0.1, inplace=False)\n",
       "            )\n",
       "          )\n",
       "          (intermediate): BertIntermediate(\n",
       "            (dense): Linear(in_features=768, out_features=3072, bias=True)\n",
       "            (intermediate_act_fn): GELUActivation()\n",
       "          )\n",
       "          (output): BertOutput(\n",
       "            (dense): Linear(in_features=3072, out_features=768, bias=True)\n",
       "            (LayerNorm): LayerNorm((768,), eps=1e-12, elementwise_affine=True)\n",
       "            (dropout): Dropout(p=0.1, inplace=False)\n",
       "          )\n",
       "        )\n",
       "      )\n",
       "    )\n",
       "    (pooler): BertPooler(\n",
       "      (dense): Linear(in_features=768, out_features=768, bias=True)\n",
       "      (activation): Tanh()\n",
       "    )\n",
       "  )\n",
       "  (dropout): Dropout(p=0.1, inplace=False)\n",
       "  (classifier): Linear(in_features=768, out_features=2, bias=True)\n",
       ")"
      ]
     },
     "execution_count": 6,
     "metadata": {},
     "output_type": "execute_result"
    }
   ],
   "source": [
    "model = BertForSequenceClassification.from_pretrained(\"bert-base-multilingual-cased\", num_labels=2)\n",
    "model.cuda()"
   ]
  },
  {
   "cell_type": "code",
   "execution_count": 7,
   "metadata": {},
   "outputs": [
    {
     "name": "stderr",
     "output_type": "stream",
     "text": [
      "/opt/conda/lib/python3.8/site-packages/transformers/optimization.py:306: FutureWarning: This implementation of AdamW is deprecated and will be removed in a future version. Use the PyTorch implementation torch.optim.AdamW instead, or set `no_deprecation_warning=True` to disable this warning\n",
      "  warnings.warn(\n"
     ]
    }
   ],
   "source": [
    "# loss function and optimizer\n",
    "optimizer = AdamW(model.parameters(),\n",
    "                  lr = 5e-5, # Learning rate\n",
    "                  eps = 1e-8 # Epsilon for AdamW to avoid numerical issues (zero division)\n",
    "                )\n",
    "\n",
    "# number of training epochs\n",
    "epochs = 5\n",
    "\n",
    "# loss function to calculate loss\n",
    "loss_fn = nn.CrossEntropyLoss()\n",
    "\n",
    "# total number of training step \n",
    "# len(train_dataloader) : number of batches\n",
    "total_steps = len(train_dataloader) * epochs\n",
    "\n",
    "warmup_ratio = 0.1\n",
    "warmup_step = int(total_steps * warmup_ratio)\n",
    "\n",
    "# scheduler to decrease learning rate\n",
    "scheduler = get_cosine_schedule_with_warmup(optimizer, \n",
    "                                            num_warmup_steps = warmup_step,\n",
    "                                            num_training_steps = total_steps)"
   ]
  },
  {
   "cell_type": "code",
   "execution_count": 8,
   "metadata": {},
   "outputs": [],
   "source": [
    "def flat_accuracy(preds, labels):\n",
    "    pred_flat = np.argmax(preds, axis=1).flatten()\n",
    "    labels_flat = labels.flatten()\n",
    "    return np.sum(pred_flat == labels_flat) / len(labels_flat)\n",
    "\n",
    "# time format\n",
    "def format_time(elapsed):\n",
    "    # Round to the nearest second.\n",
    "    elapsed_rounded = int(round((elapsed)))\n",
    "    # change to hh:mm:ss\n",
    "    return str(datetime.timedelta(seconds=elapsed_rounded))"
   ]
  },
  {
   "cell_type": "code",
   "execution_count": 9,
   "metadata": {},
   "outputs": [],
   "source": [
    "train_loss_bert_multilingual_cased_per_epoch = []\n",
    "validation_accuracy_bert_multilingual_cased_per_epoch = []"
   ]
  },
  {
   "cell_type": "code",
   "execution_count": 10,
   "metadata": {},
   "outputs": [
    {
     "name": "stdout",
     "output_type": "stream",
     "text": [
      "\n",
      "======== Epoch 1 / 5 ========\n",
      "Training...\n",
      "  Batch   500  of  4,184.    Elapsed: 0:01:47.\n",
      "  Batch 1,000  of  4,184.    Elapsed: 0:03:33.\n",
      "  Batch 1,500  of  4,184.    Elapsed: 0:05:19.\n",
      "  Batch 2,000  of  4,184.    Elapsed: 0:07:04.\n",
      "  Batch 2,500  of  4,184.    Elapsed: 0:08:50.\n",
      "  Batch 3,000  of  4,184.    Elapsed: 0:10:36.\n",
      "  Batch 3,500  of  4,184.    Elapsed: 0:12:21.\n",
      "  Batch 4,000  of  4,184.    Elapsed: 0:14:07.\n",
      "\n",
      "  Average training loss: 0.45\n",
      "  Training epcoh took: 0:14:46\n",
      "\n",
      "Running Validation...\n",
      "  Accuracy: 0.83\n",
      "  Validation took: 0:00:30\n",
      "\n",
      "======== Epoch 2 / 5 ========\n",
      "Training...\n",
      "  Batch   500  of  4,184.    Elapsed: 0:01:46.\n",
      "  Batch 1,000  of  4,184.    Elapsed: 0:03:32.\n",
      "  Batch 1,500  of  4,184.    Elapsed: 0:05:18.\n",
      "  Batch 2,000  of  4,184.    Elapsed: 0:07:04.\n",
      "  Batch 2,500  of  4,184.    Elapsed: 0:08:49.\n",
      "  Batch 3,000  of  4,184.    Elapsed: 0:10:35.\n",
      "  Batch 3,500  of  4,184.    Elapsed: 0:12:21.\n",
      "  Batch 4,000  of  4,184.    Elapsed: 0:14:07.\n",
      "\n",
      "  Average training loss: 0.36\n",
      "  Training epcoh took: 0:14:46\n",
      "\n",
      "Running Validation...\n",
      "  Accuracy: 0.84\n",
      "  Validation took: 0:00:30\n",
      "\n",
      "======== Epoch 3 / 5 ========\n",
      "Training...\n",
      "  Batch   500  of  4,184.    Elapsed: 0:01:46.\n",
      "  Batch 1,000  of  4,184.    Elapsed: 0:03:32.\n",
      "  Batch 1,500  of  4,184.    Elapsed: 0:05:18.\n",
      "  Batch 2,000  of  4,184.    Elapsed: 0:07:04.\n",
      "  Batch 2,500  of  4,184.    Elapsed: 0:08:49.\n",
      "  Batch 3,000  of  4,184.    Elapsed: 0:10:35.\n",
      "  Batch 3,500  of  4,184.    Elapsed: 0:12:21.\n",
      "  Batch 4,000  of  4,184.    Elapsed: 0:14:07.\n",
      "\n",
      "  Average training loss: 0.31\n",
      "  Training epcoh took: 0:14:46\n",
      "\n",
      "Running Validation...\n",
      "  Accuracy: 0.85\n",
      "  Validation took: 0:00:30\n",
      "\n",
      "======== Epoch 4 / 5 ========\n",
      "Training...\n",
      "  Batch   500  of  4,184.    Elapsed: 0:01:46.\n",
      "  Batch 1,000  of  4,184.    Elapsed: 0:03:32.\n",
      "  Batch 1,500  of  4,184.    Elapsed: 0:05:18.\n",
      "  Batch 2,000  of  4,184.    Elapsed: 0:07:04.\n",
      "  Batch 2,500  of  4,184.    Elapsed: 0:08:49.\n",
      "  Batch 3,000  of  4,184.    Elapsed: 0:10:35.\n",
      "  Batch 3,500  of  4,184.    Elapsed: 0:12:21.\n",
      "  Batch 4,000  of  4,184.    Elapsed: 0:14:07.\n",
      "\n",
      "  Average training loss: 0.24\n",
      "  Training epcoh took: 0:14:45\n",
      "\n",
      "Running Validation...\n",
      "  Accuracy: 0.86\n",
      "  Validation took: 0:00:30\n",
      "\n",
      "======== Epoch 5 / 5 ========\n",
      "Training...\n",
      "  Batch   500  of  4,184.    Elapsed: 0:01:46.\n",
      "  Batch 1,000  of  4,184.    Elapsed: 0:03:32.\n",
      "  Batch 1,500  of  4,184.    Elapsed: 0:05:18.\n",
      "  Batch 2,000  of  4,184.    Elapsed: 0:07:03.\n",
      "  Batch 2,500  of  4,184.    Elapsed: 0:08:49.\n",
      "  Batch 3,000  of  4,184.    Elapsed: 0:10:35.\n",
      "  Batch 3,500  of  4,184.    Elapsed: 0:12:21.\n",
      "  Batch 4,000  of  4,184.    Elapsed: 0:14:07.\n",
      "\n",
      "  Average training loss: 0.19\n",
      "  Training epcoh took: 0:14:46\n",
      "\n",
      "Running Validation...\n",
      "  Accuracy: 0.86\n",
      "  Validation took: 0:00:30\n",
      "\n",
      "Training complete!\n"
     ]
    }
   ],
   "source": [
    "seed_val = 42\n",
    "random.seed(seed_val)\n",
    "np.random.seed(seed_val)\n",
    "torch.manual_seed(seed_val)\n",
    "torch.cuda.manual_seed_all(seed_val)\n",
    "\n",
    "# zero gradients\n",
    "model.zero_grad()\n",
    "\n",
    "# loop over epochs\n",
    "for epoch_i in range(0, epochs):\n",
    "    \n",
    "    # ========================================\n",
    "    #               Training\n",
    "    # ========================================\n",
    "    \n",
    "    print(\"\")\n",
    "    print('======== Epoch {:} / {:} ========'.format(epoch_i + 1, epochs))\n",
    "    print('Training...')\n",
    "\n",
    "    # set time recorder\n",
    "    t0 = time.time()\n",
    "\n",
    "    # intialize the loss\n",
    "    total_loss = 0\n",
    "\n",
    "    # set model to train mode\n",
    "    model.train()\n",
    "        \n",
    "    # get step and batch from train_dataloader\n",
    "    for step, batch in enumerate(train_dataloader):\n",
    "        # progress bar\n",
    "        if step % 500 == 0 and not step == 0:\n",
    "            elapsed = format_time(time.time() - t0)\n",
    "            print('  Batch {:>5,}  of  {:>5,}.    Elapsed: {:}.'.format(step, len(train_dataloader), elapsed))\n",
    "\n",
    "        # batch to GPU\n",
    "        batch = tuple(t.to(device) for t in batch)\n",
    "        \n",
    "        # unpack the inputs from dataloader\n",
    "        b_input_ids, b_input_mask, b_labels = batch\n",
    "\n",
    "        # Forward pass                \n",
    "        # **batch\n",
    "        outputs = model(b_input_ids, \n",
    "                        token_type_ids=None, \n",
    "                        attention_mask=b_input_mask, \n",
    "                        labels=b_labels)\n",
    "        \n",
    "        # get loss\n",
    "        loss = outputs[0]\n",
    "\n",
    "        # get the total loss\n",
    "        total_loss += loss.item()\n",
    "\n",
    "        # Backward pass, gradient calculation\n",
    "        loss.backward()\n",
    "\n",
    "        # gradient clipping to avoid gradient exploding\n",
    "        torch.nn.utils.clip_grad_norm_(model.parameters(), 1.0)\n",
    "\n",
    "        # update weight parameters from backpropagation\n",
    "        optimizer.step()\n",
    "\n",
    "        # learning rate decay by scheduler\n",
    "        scheduler.step()\n",
    "\n",
    "        # zero gradients\n",
    "        model.zero_grad()\n",
    "        \n",
    "    # evaluate the average loss over the epoch\n",
    "    avg_train_loss = total_loss / len(train_dataloader)            \n",
    "\n",
    "    print(\"\")\n",
    "    print(\"  Average training loss: {0:.2f}\".format(avg_train_loss))\n",
    "    print(\"  Training epcoh took: {:}\".format(format_time(time.time() - t0)))\n",
    "\n",
    "    train_loss_bert_multilingual_cased_per_epoch.append(avg_train_loss)\n",
    "        \n",
    "    # ========================================\n",
    "    #               Validation\n",
    "    # ========================================\n",
    "\n",
    "    print(\"\")\n",
    "    print(\"Running Validation...\")\n",
    "\n",
    "    # set time recorder\n",
    "    t0 = time.time()\n",
    "\n",
    "    # set model to eval mode\n",
    "    model.eval()\n",
    "\n",
    "    # initialize the loss and accuracy\n",
    "    eval_loss, eval_accuracy = 0, 0\n",
    "    nb_eval_steps, nb_eval_examples = 0, 0\n",
    "\n",
    "    # get batch from val_dataloader\n",
    "    for batch in validation_dataloader:\n",
    "        # batch to GPU\n",
    "        batch = tuple(t.to(device) for t in batch)\n",
    "        \n",
    "        # unpack the inputs from dataloader\n",
    "        b_input_ids, b_input_mask, b_labels = batch\n",
    "        \n",
    "        # no need to calculate gradients because of eval mode, so set requires_grad to False\n",
    "        with torch.no_grad():     \n",
    "            # Forward pass\n",
    "            outputs = model(b_input_ids, \n",
    "                            token_type_ids=None, \n",
    "                            attention_mask=b_input_mask)\n",
    "        \n",
    "        # get loss\n",
    "        logits = outputs[0]\n",
    "\n",
    "        # loss to CPU\n",
    "        logits = logits.detach().cpu().numpy()\n",
    "        label_ids = b_labels.to('cpu').numpy()\n",
    "        \n",
    "        # calculate evaluation accuracy\n",
    "        # flat_accuracy : calculate accuracy of each batch\n",
    "        tmp_eval_accuracy = flat_accuracy(logits, label_ids)\n",
    "        eval_accuracy += tmp_eval_accuracy\n",
    "        nb_eval_steps += 1\n",
    "\n",
    "    print(\"  Accuracy: {0:.2f}\".format(eval_accuracy/nb_eval_steps))\n",
    "    print(\"  Validation took: {:}\".format(format_time(time.time() - t0)))\n",
    "    validation_accuracy_bert_multilingual_cased_per_epoch.append(eval_accuracy/nb_eval_steps)\n",
    "\n",
    "print(\"\")\n",
    "print(\"Training complete!\")"
   ]
  },
  {
   "cell_type": "code",
   "execution_count": 12,
   "metadata": {},
   "outputs": [
    {
     "name": "stdout",
     "output_type": "stream",
     "text": [
      "  Batch   100  of  1,550.    Elapsed: 0:00:07.\n",
      "  Batch   200  of  1,550.    Elapsed: 0:00:13.\n",
      "  Batch   300  of  1,550.    Elapsed: 0:00:19.\n",
      "  Batch   400  of  1,550.    Elapsed: 0:00:26.\n",
      "  Batch   500  of  1,550.    Elapsed: 0:00:32.\n",
      "  Batch   600  of  1,550.    Elapsed: 0:00:38.\n",
      "  Batch   700  of  1,550.    Elapsed: 0:00:45.\n",
      "  Batch   800  of  1,550.    Elapsed: 0:00:51.\n",
      "  Batch   900  of  1,550.    Elapsed: 0:00:57.\n",
      "  Batch 1,000  of  1,550.    Elapsed: 0:01:04.\n",
      "  Batch 1,100  of  1,550.    Elapsed: 0:01:10.\n",
      "  Batch 1,200  of  1,550.    Elapsed: 0:01:16.\n",
      "  Batch 1,300  of  1,550.    Elapsed: 0:01:23.\n",
      "  Batch 1,400  of  1,550.    Elapsed: 0:01:29.\n",
      "  Batch 1,500  of  1,550.    Elapsed: 0:01:36.\n",
      "\n",
      "Accuracy: 0.86\n",
      "Test took: 0:01:39\n"
     ]
    }
   ],
   "source": [
    "t0 = time.time()\n",
    "\n",
    "model.eval()\n",
    "\n",
    "eval_loss, eval_accuracy = 0, 0\n",
    "nb_eval_steps, nb_eval_examples = 0, 0\n",
    "\n",
    "for step, batch in enumerate(test_dataloader):\n",
    "    if step % 100 == 0 and not step == 0:\n",
    "        elapsed = format_time(time.time() - t0)\n",
    "        print('  Batch {:>5,}  of  {:>5,}.    Elapsed: {:}.'.format(step, len(test_dataloader), elapsed))\n",
    "\n",
    "    batch = tuple(t.to(device) for t in batch)\n",
    "    \n",
    "    b_input_ids, b_input_mask, b_labels = batch\n",
    "    \n",
    "    with torch.no_grad():     \n",
    "        outputs = model(b_input_ids, \n",
    "                        token_type_ids=None, \n",
    "                        attention_mask=b_input_mask)\n",
    "    \n",
    "    logits = outputs[0]\n",
    "\n",
    "    logits = logits.detach().cpu().numpy()\n",
    "    label_ids = b_labels.to('cpu').numpy()\n",
    "    \n",
    "    tmp_eval_accuracy = flat_accuracy(logits, label_ids)\n",
    "    eval_accuracy += tmp_eval_accuracy\n",
    "    nb_eval_steps += 1\n",
    "\n",
    "print(\"\")\n",
    "print(\"Accuracy: {0:.2f}\".format(eval_accuracy/nb_eval_steps))\n",
    "print(\"Test took: {:}\".format(format_time(time.time() - t0)))\n",
    "bert_base_multilingual_cased_accuracy = eval_accuracy/nb_eval_steps"
   ]
  },
  {
   "cell_type": "markdown",
   "metadata": {},
   "source": [
    "## 2. KoBERT\n",
    "\n",
    "```\n",
    "predefined_args = {\n",
    "        'attention_cell': 'multi_head',\n",
    "        'num_layers': 12,\n",
    "        'units': 768,\n",
    "        'hidden_size': 3072,\n",
    "        'max_length': 512,\n",
    "        'num_heads': 12,\n",
    "        'scaled': True,\n",
    "        'dropout': 0.1,\n",
    "        'use_residual': True,\n",
    "        'embed_size': 768,\n",
    "        'embed_dropout': 0.1,\n",
    "        'token_type_vocab_size': 2,\n",
    "        'word_embed': None,\n",
    "    }\n",
    "```\n",
    "\n",
    "    * SKTBrain github에 제공된 notebook을 토대로 커스터마이징을 진행했습니다.\n",
    "    * Model 내부 및 예측 흐름 확인"
   ]
  },
  {
   "cell_type": "code",
   "execution_count": 13,
   "metadata": {},
   "outputs": [
    {
     "name": "stderr",
     "output_type": "stream",
     "text": [
      "The tokenizer class you load from this checkpoint is not the same type as the class this function is called from. It may result in unexpected tokenization. \n",
      "The tokenizer class you load from this checkpoint is 'XLNetTokenizer'. \n",
      "The class this function is called from is 'KoBERTTokenizer'.\n"
     ]
    }
   ],
   "source": [
    "tokenizer = KoBERTTokenizer.from_pretrained('skt/kobert-base-v1')\n",
    "bertmodel = BertModel.from_pretrained('skt/kobert-base-v1', return_dict=False)\n",
    "vocab = nlp.vocab.BERTVocab.from_sentencepiece(tokenizer.vocab_file, padding_token='[PAD]')"
   ]
  },
  {
   "cell_type": "code",
   "execution_count": 14,
   "metadata": {},
   "outputs": [],
   "source": [
    "class BERTDataset(Dataset):\n",
    "    def __init__(self, dataset, sent_idx, label_idx, bert_tokenizer, vocab, max_len,\n",
    "                 pad, pair):\n",
    "        transform = nlp.data.BERTSentenceTransform(\n",
    "            bert_tokenizer, max_seq_length=max_len, vocab=vocab, pad=pad, pair=pair)\n",
    "\n",
    "        self.sentences = [transform([i[sent_idx]]) for i in dataset]\n",
    "        self.labels = [np.int32(i[label_idx]) for i in dataset]\n",
    "\n",
    "    def __getitem__(self, i):\n",
    "        return (self.sentences[i] + (self.labels[i], ))\n",
    "\n",
    "    def __len__(self):\n",
    "        return (len(self.labels))\n"
   ]
  },
  {
   "cell_type": "code",
   "execution_count": 15,
   "metadata": {},
   "outputs": [],
   "source": [
    "dataset_train = nlp.data.TSVDataset(\"ratings_train.txt\", field_indices=[1,2], num_discard_samples=1)\n",
    "dataset_test = nlp.data.TSVDataset(\"ratings_test.txt\", field_indices=[1,2], num_discard_samples=1)"
   ]
  },
  {
   "cell_type": "code",
   "execution_count": 16,
   "metadata": {},
   "outputs": [],
   "source": [
    "tok = tokenizer.tokenize\n",
    "\n",
    "data_train = BERTDataset(dataset_train, 0, 1, tok, vocab, 64, True, False)\n",
    "data_test = BERTDataset(dataset_test, 0, 1, tok, vocab, 64, True, False)\n",
    "\n",
    "train_dataloader = DataLoader(\n",
    "                    data_train, \n",
    "                    batch_size=BATCH_SIZE, \n",
    "                    num_workers=4,\n",
    "                    shuffle=True,\n",
    "                    pin_memory=True\n",
    "                    )\n",
    "test_dataloader = DataLoader(\n",
    "                    data_test, \n",
    "                    batch_size=BATCH_SIZE, \n",
    "                    num_workers=4,\n",
    "                    shuffle=True,\n",
    "                    pin_memory=True\n",
    "                    )"
   ]
  },
  {
   "cell_type": "code",
   "execution_count": 17,
   "metadata": {},
   "outputs": [],
   "source": [
    "class BERTClassifier(nn.Module):\n",
    "    def __init__(self,\n",
    "                 bert,\n",
    "                 hidden_size = 768,\n",
    "                 num_classes=2,\n",
    "                 dr_rate=None,\n",
    "                 params=None):\n",
    "        super(BERTClassifier, self).__init__()\n",
    "        self.bert = bert\n",
    "        self.dr_rate = dr_rate\n",
    "                 \n",
    "        self.classifier = nn.Linear(hidden_size , num_classes)\n",
    "        if dr_rate:\n",
    "            self.dropout = nn.Dropout(p=dr_rate)\n",
    "    \n",
    "    def gen_attention_mask(self, token_ids, valid_length):\n",
    "        attention_mask = torch.zeros_like(token_ids)\n",
    "        for i, v in enumerate(valid_length):\n",
    "            attention_mask[i][:v] = 1\n",
    "        return attention_mask.float()\n",
    "\n",
    "    def forward(self, token_ids, valid_length, segment_ids):\n",
    "        attention_mask = self.gen_attention_mask(token_ids, valid_length)\n",
    "        \n",
    "        _, pooler = self.bert(input_ids = token_ids, token_type_ids = segment_ids.long(), attention_mask = attention_mask.float().to(token_ids.device))\n",
    "        if self.dr_rate:\n",
    "            out = self.dropout(pooler)\n",
    "        return self.classifier(out)\n",
    "    \n",
    "model = BERTClassifier(bertmodel,  dr_rate=0.5).to(device)"
   ]
  },
  {
   "cell_type": "code",
   "execution_count": 18,
   "metadata": {},
   "outputs": [],
   "source": [
    "no_decay = ['bias', 'LayerNorm.weight']\n",
    "optimizer_grouped_parameters = [\n",
    "    {'params': [p for n, p in model.named_parameters() if not any(nd in n for nd in no_decay)], 'weight_decay': 0.01},\n",
    "    {'params': [p for n, p in model.named_parameters() if any(nd in n for nd in no_decay)], 'weight_decay': 0.0}\n",
    "]\n",
    "\n",
    "optimizer = AdamW(model.parameters(),\n",
    "                  lr = 5e-5, # Learning rate\n",
    "                  eps = 1e-8 # Epsilon for AdamW to avoid numerical issues (zero division)\n",
    "                )\n",
    "\n",
    "loss_fn = nn.CrossEntropyLoss()\n",
    "\n",
    "t_total = len(train_dataloader) * epochs\n",
    "warmup_step = int(t_total * 0.1)\n",
    "\n",
    "scheduler = get_cosine_schedule_with_warmup(optimizer, num_warmup_steps=warmup_step, num_training_steps=t_total)"
   ]
  },
  {
   "cell_type": "code",
   "execution_count": 19,
   "metadata": {},
   "outputs": [],
   "source": [
    "def calc_accuracy(X,Y):\n",
    "    max_vals, max_indices = torch.max(X, 1)\n",
    "    train_acc = (max_indices == Y).sum().data.cpu().numpy()/max_indices.size()[0]\n",
    "    return train_acc"
   ]
  },
  {
   "cell_type": "code",
   "execution_count": 20,
   "metadata": {},
   "outputs": [],
   "source": [
    "train_loss_kobert_per_epoch = []\n",
    "train_accuracy_kobert_per_epoch = []"
   ]
  },
  {
   "cell_type": "code",
   "execution_count": 21,
   "metadata": {},
   "outputs": [
    {
     "data": {
      "application/vnd.jupyter.widget-view+json": {
       "model_id": "a9d37c4c1c8346cd9cbce510da2cc95b",
       "version_major": 2,
       "version_minor": 0
      },
      "text/plain": [
       "  0%|          | 0/4688 [00:00<?, ?it/s]"
      ]
     },
     "metadata": {},
     "output_type": "display_data"
    },
    {
     "name": "stdout",
     "output_type": "stream",
     "text": [
      "epoch 1 batch id 1 loss 0.6896642446517944 train acc 0.53125\n",
      "epoch 1 batch id 201 loss 0.7195993661880493 train acc 0.505752487562189\n",
      "epoch 1 batch id 401 loss 0.6234786510467529 train acc 0.5455112219451371\n",
      "epoch 1 batch id 601 loss 0.5720820426940918 train acc 0.6271318635607321\n",
      "epoch 1 batch id 801 loss 0.3160232603549957 train acc 0.6730649188514357\n",
      "epoch 1 batch id 1001 loss 0.10534768551588058 train acc 0.7058566433566433\n",
      "epoch 1 batch id 1201 loss 0.267437607049942 train acc 0.7297304329725229\n",
      "epoch 1 batch id 1401 loss 0.30100053548812866 train acc 0.746743397573162\n",
      "epoch 1 batch id 1601 loss 0.3154330551624298 train acc 0.7599742348532167\n",
      "epoch 1 batch id 1801 loss 0.412508100271225 train acc 0.7697112715158245\n",
      "epoch 1 batch id 2001 loss 0.302864670753479 train acc 0.7779079210394803\n",
      "epoch 1 batch id 2201 loss 0.2663799524307251 train acc 0.7854668332576101\n",
      "epoch 1 batch id 2401 loss 0.4452560245990753 train acc 0.7913759891711787\n",
      "epoch 1 batch id 2601 loss 0.4079663157463074 train acc 0.7970852556708958\n",
      "epoch 1 batch id 2801 loss 0.22786469757556915 train acc 0.8015887183148875\n",
      "epoch 1 batch id 3001 loss 0.16224011778831482 train acc 0.8054086137954015\n",
      "epoch 1 batch id 3201 loss 0.45652925968170166 train acc 0.8090928616057482\n",
      "epoch 1 batch id 3401 loss 0.4697261154651642 train acc 0.8122151573066745\n",
      "epoch 1 batch id 3601 loss 0.3090633749961853 train acc 0.8154158567064704\n",
      "epoch 1 batch id 3801 loss 0.2023317664861679 train acc 0.8182139568534597\n",
      "epoch 1 batch id 4001 loss 0.45421892404556274 train acc 0.8210447388152962\n",
      "epoch 1 batch id 4201 loss 0.3515925705432892 train acc 0.8235985479647703\n",
      "epoch 1 batch id 4401 loss 0.347139447927475 train acc 0.8260551579186548\n",
      "epoch 1 batch id 4601 loss 0.24945245683193207 train acc 0.8282914040425995\n",
      "epoch 1 train acc 0.8289715763651877\n"
     ]
    },
    {
     "data": {
      "application/vnd.jupyter.widget-view+json": {
       "model_id": "3f913c5d150e4274ab6eca2e3775ca06",
       "version_major": 2,
       "version_minor": 0
      },
      "text/plain": [
       "  0%|          | 0/1563 [00:00<?, ?it/s]"
      ]
     },
     "metadata": {},
     "output_type": "display_data"
    },
    {
     "name": "stdout",
     "output_type": "stream",
     "text": [
      "epoch 1 test acc 0.8821377159309021\n"
     ]
    },
    {
     "data": {
      "application/vnd.jupyter.widget-view+json": {
       "model_id": "c7a01637dbe54bd4ab4f264f4b565a81",
       "version_major": 2,
       "version_minor": 0
      },
      "text/plain": [
       "  0%|          | 0/4688 [00:00<?, ?it/s]"
      ]
     },
     "metadata": {},
     "output_type": "display_data"
    },
    {
     "name": "stdout",
     "output_type": "stream",
     "text": [
      "epoch 2 batch id 1 loss 0.21942779421806335 train acc 0.9375\n",
      "epoch 2 batch id 201 loss 0.16053864359855652 train acc 0.900497512437811\n",
      "epoch 2 batch id 401 loss 0.3911174535751343 train acc 0.9011845386533666\n",
      "epoch 2 batch id 601 loss 0.35175397992134094 train acc 0.8999584026622296\n",
      "epoch 2 batch id 801 loss 0.28481703996658325 train acc 0.8999687890137328\n",
      "epoch 2 batch id 1001 loss 0.16768449544906616 train acc 0.9002872127872128\n",
      "epoch 2 batch id 1201 loss 0.1901545226573944 train acc 0.9003955037468776\n",
      "epoch 2 batch id 1401 loss 0.23256605863571167 train acc 0.9000267665952891\n",
      "epoch 2 batch id 1601 loss 0.3452270030975342 train acc 0.8995354465958776\n",
      "epoch 2 batch id 1801 loss 0.4288899898529053 train acc 0.8993441143808995\n",
      "epoch 2 batch id 2001 loss 0.17774713039398193 train acc 0.8987849825087456\n",
      "epoch 2 batch id 2201 loss 0.18110235035419464 train acc 0.8986398228078146\n",
      "epoch 2 batch id 2401 loss 0.24248681962490082 train acc 0.898362661391087\n",
      "epoch 2 batch id 2601 loss 0.07240406423807144 train acc 0.8982482698961938\n",
      "epoch 2 batch id 2801 loss 0.21673627197742462 train acc 0.898060960371296\n",
      "epoch 2 batch id 3001 loss 0.2544710636138916 train acc 0.8982214261912695\n",
      "epoch 2 batch id 3201 loss 0.28616219758987427 train acc 0.8985766166822868\n",
      "epoch 2 batch id 3401 loss 0.5311079025268555 train acc 0.8992851367244928\n",
      "epoch 2 batch id 3601 loss 0.3471547067165375 train acc 0.8993508747570119\n",
      "epoch 2 batch id 3801 loss 0.16091138124465942 train acc 0.899689226519337\n",
      "epoch 2 batch id 4001 loss 0.13370868563652039 train acc 0.8999156460884778\n",
      "epoch 2 batch id 4201 loss 0.2339814156293869 train acc 0.9002469650083313\n",
      "epoch 2 batch id 4401 loss 0.1814076006412506 train acc 0.9000511247443763\n",
      "epoch 2 batch id 4601 loss 0.3322475850582123 train acc 0.9003613344925017\n",
      "epoch 2 train acc 0.900390625\n"
     ]
    },
    {
     "data": {
      "application/vnd.jupyter.widget-view+json": {
       "model_id": "1105641e91374c8ba4ce97205258f91e",
       "version_major": 2,
       "version_minor": 0
      },
      "text/plain": [
       "  0%|          | 0/1563 [00:00<?, ?it/s]"
      ]
     },
     "metadata": {},
     "output_type": "display_data"
    },
    {
     "name": "stdout",
     "output_type": "stream",
     "text": [
      "epoch 2 test acc 0.8859365003198977\n"
     ]
    },
    {
     "data": {
      "application/vnd.jupyter.widget-view+json": {
       "model_id": "0c5d590336094dec854ecad722945013",
       "version_major": 2,
       "version_minor": 0
      },
      "text/plain": [
       "  0%|          | 0/4688 [00:00<?, ?it/s]"
      ]
     },
     "metadata": {},
     "output_type": "display_data"
    },
    {
     "name": "stdout",
     "output_type": "stream",
     "text": [
      "epoch 3 batch id 1 loss 0.22292691469192505 train acc 0.90625\n",
      "epoch 3 batch id 201 loss 0.1691727191209793 train acc 0.9353233830845771\n",
      "epoch 3 batch id 401 loss 0.10388654470443726 train acc 0.9339931421446384\n",
      "epoch 3 batch id 601 loss 0.1604059934616089 train acc 0.9337562396006656\n",
      "epoch 3 batch id 801 loss 0.3961453139781952 train acc 0.9325452559300874\n",
      "epoch 3 batch id 1001 loss 0.13517558574676514 train acc 0.9330669330669331\n",
      "epoch 3 batch id 1201 loss 0.34183600544929504 train acc 0.933544962531224\n",
      "epoch 3 batch id 1401 loss 0.1607390195131302 train acc 0.9331727337615988\n",
      "epoch 3 batch id 1601 loss 0.26959913969039917 train acc 0.9328739850093691\n",
      "epoch 3 batch id 1801 loss 0.24328456819057465 train acc 0.9331100777345919\n",
      "epoch 3 batch id 2001 loss 0.11234334856271744 train acc 0.9340798350824587\n",
      "epoch 3 batch id 2201 loss 0.07256606966257095 train acc 0.9343764198091776\n",
      "epoch 3 batch id 2401 loss 0.1881340742111206 train acc 0.9346886713869221\n",
      "epoch 3 batch id 2601 loss 0.051276665180921555 train acc 0.9345924644367551\n",
      "epoch 3 batch id 2801 loss 0.12479984760284424 train acc 0.9345992502677615\n",
      "epoch 3 batch id 3001 loss 0.0846443921327591 train acc 0.9349071142952349\n",
      "epoch 3 batch id 3201 loss 0.13510283827781677 train acc 0.9353034208059982\n",
      "epoch 3 batch id 3401 loss 0.07692041993141174 train acc 0.9351569391355483\n",
      "epoch 3 batch id 3601 loss 0.14486676454544067 train acc 0.9352783948903083\n",
      "epoch 3 batch id 3801 loss 0.0729750320315361 train acc 0.9353624046303605\n",
      "epoch 3 batch id 4001 loss 0.11272435635328293 train acc 0.9351802674331418\n",
      "epoch 3 batch id 4201 loss 0.24420039355754852 train acc 0.9352832658890741\n",
      "epoch 3 batch id 4401 loss 0.16790452599525452 train acc 0.9353698023176551\n",
      "epoch 3 batch id 4601 loss 0.22184206545352936 train acc 0.9357204955444468\n",
      "epoch 3 train acc 0.935813513225256\n"
     ]
    },
    {
     "data": {
      "application/vnd.jupyter.widget-view+json": {
       "model_id": "aa8bd043b2f248f885ee9201127bb243",
       "version_major": 2,
       "version_minor": 0
      },
      "text/plain": [
       "  0%|          | 0/1563 [00:00<?, ?it/s]"
      ]
     },
     "metadata": {},
     "output_type": "display_data"
    },
    {
     "name": "stdout",
     "output_type": "stream",
     "text": [
      "epoch 3 test acc 0.8966530710172744\n"
     ]
    },
    {
     "data": {
      "application/vnd.jupyter.widget-view+json": {
       "model_id": "754350533fe14ab39aa6f4910be1afb1",
       "version_major": 2,
       "version_minor": 0
      },
      "text/plain": [
       "  0%|          | 0/4688 [00:00<?, ?it/s]"
      ]
     },
     "metadata": {},
     "output_type": "display_data"
    },
    {
     "name": "stdout",
     "output_type": "stream",
     "text": [
      "epoch 4 batch id 1 loss 0.018985044211149216 train acc 1.0\n",
      "epoch 4 batch id 201 loss 0.17662766575813293 train acc 0.9682835820895522\n",
      "epoch 4 batch id 401 loss 0.20021408796310425 train acc 0.9659445137157108\n",
      "epoch 4 batch id 601 loss 0.0823211818933487 train acc 0.9645902662229617\n",
      "epoch 4 batch id 801 loss 0.04671482369303703 train acc 0.9651217228464419\n",
      "epoch 4 batch id 1001 loss 0.19085052609443665 train acc 0.9654408091908092\n",
      "epoch 4 batch id 1201 loss 0.2113514393568039 train acc 0.9657316819317235\n",
      "epoch 4 batch id 1401 loss 0.04337078332901001 train acc 0.9655380085653105\n",
      "epoch 4 batch id 1601 loss 0.06009234860539436 train acc 0.9651584946908183\n",
      "epoch 4 batch id 1801 loss 0.176896333694458 train acc 0.9652970571904498\n",
      "epoch 4 batch id 2001 loss 0.11116272211074829 train acc 0.9651268115942029\n",
      "epoch 4 batch id 2201 loss 0.2176637202501297 train acc 0.9652430713312131\n",
      "epoch 4 batch id 2401 loss 0.0855502039194107 train acc 0.9655221782590587\n",
      "epoch 4 batch id 2601 loss 0.06716382503509521 train acc 0.9657823913879278\n",
      "epoch 4 batch id 2801 loss 0.07509464025497437 train acc 0.9659273473759372\n",
      "epoch 4 batch id 3001 loss 0.052489906549453735 train acc 0.9658655448183938\n",
      "epoch 4 batch id 3201 loss 0.015774885192513466 train acc 0.9659774289284598\n",
      "epoch 4 batch id 3401 loss 0.14915616810321808 train acc 0.96608534254631\n",
      "epoch 4 batch id 3601 loss 0.01078161783516407 train acc 0.9662159816717578\n",
      "epoch 4 batch id 3801 loss 0.1808084398508072 train acc 0.9662177716390423\n",
      "epoch 4 batch id 4001 loss 0.014494618400931358 train acc 0.9664302674331418\n",
      "epoch 4 batch id 4201 loss 0.1340869963169098 train acc 0.9665927755296359\n",
      "epoch 4 batch id 4401 loss 0.10982349514961243 train acc 0.9666908089070666\n",
      "epoch 4 batch id 4601 loss 0.07931981980800629 train acc 0.966773527494023\n",
      "epoch 4 train acc 0.9667902090443686\n"
     ]
    },
    {
     "data": {
      "application/vnd.jupyter.widget-view+json": {
       "model_id": "679c61768f284c93844b536a785feeb7",
       "version_major": 2,
       "version_minor": 0
      },
      "text/plain": [
       "  0%|          | 0/1563 [00:00<?, ?it/s]"
      ]
     },
     "metadata": {},
     "output_type": "display_data"
    },
    {
     "name": "stdout",
     "output_type": "stream",
     "text": [
      "epoch 4 test acc 0.8983925143953935\n"
     ]
    },
    {
     "data": {
      "application/vnd.jupyter.widget-view+json": {
       "model_id": "b7823cdc3fa74255b1fd42fbd6d3fe25",
       "version_major": 2,
       "version_minor": 0
      },
      "text/plain": [
       "  0%|          | 0/4688 [00:00<?, ?it/s]"
      ]
     },
     "metadata": {},
     "output_type": "display_data"
    },
    {
     "name": "stdout",
     "output_type": "stream",
     "text": [
      "epoch 5 batch id 1 loss 0.01645178347826004 train acc 1.0\n",
      "epoch 5 batch id 201 loss 0.08279287815093994 train acc 0.9849191542288557\n",
      "epoch 5 batch id 401 loss 0.008490854874253273 train acc 0.982465710723192\n",
      "epoch 5 batch id 601 loss 0.12317541241645813 train acc 0.9823731281198004\n",
      "epoch 5 batch id 801 loss 0.0051270113326609135 train acc 0.9822877652933832\n",
      "epoch 5 batch id 1001 loss 0.003696909872815013 train acc 0.9826111388611388\n",
      "epoch 5 batch id 1201 loss 0.16133549809455872 train acc 0.9824104912572856\n",
      "epoch 5 batch id 1401 loss 0.00849701277911663 train acc 0.9822002141327623\n",
      "epoch 5 batch id 1601 loss 0.0047793020494282246 train acc 0.982237663960025\n",
      "epoch 5 batch id 1801 loss 0.18387871980667114 train acc 0.9821973903387007\n",
      "epoch 5 batch id 2001 loss 0.2534700334072113 train acc 0.9820246126936532\n",
      "epoch 5 batch id 2201 loss 0.011350002139806747 train acc 0.9819542253521126\n",
      "epoch 5 batch id 2401 loss 0.026777297258377075 train acc 0.9817914410662224\n",
      "epoch 5 batch id 2601 loss 0.005736354272812605 train acc 0.981905997693195\n",
      "epoch 5 batch id 2801 loss 0.18988758325576782 train acc 0.9818926276329882\n",
      "epoch 5 batch id 3001 loss 0.005377972032874823 train acc 0.9820268243918694\n",
      "epoch 5 batch id 3201 loss 0.14405150711536407 train acc 0.9821735395189003\n",
      "epoch 5 batch id 3401 loss 0.08622086048126221 train acc 0.9820640987944722\n",
      "epoch 5 batch id 3601 loss 0.004926948808133602 train acc 0.9821577339627882\n",
      "epoch 5 batch id 3801 loss 0.018769696354866028 train acc 0.9821099710602473\n",
      "epoch 5 batch id 4001 loss 0.0120617700740695 train acc 0.9821372781804549\n",
      "epoch 5 batch id 4201 loss 0.013065756298601627 train acc 0.9821471078314687\n",
      "epoch 5 batch id 4401 loss 0.1040850356221199 train acc 0.9821134401272438\n",
      "epoch 5 batch id 4601 loss 0.18056192994117737 train acc 0.9821777874375136\n",
      "epoch 5 train acc 0.9821952325085325\n"
     ]
    },
    {
     "data": {
      "application/vnd.jupyter.widget-view+json": {
       "model_id": "52bf1306478842d996dd95117d044f6b",
       "version_major": 2,
       "version_minor": 0
      },
      "text/plain": [
       "  0%|          | 0/1563 [00:00<?, ?it/s]"
      ]
     },
     "metadata": {},
     "output_type": "display_data"
    },
    {
     "name": "stdout",
     "output_type": "stream",
     "text": [
      "epoch 5 test acc 0.896853007037748\n"
     ]
    }
   ],
   "source": [
    "for e in range(epochs):\n",
    "\n",
    "    train_acc = 0.0\n",
    "    test_acc = 0.0\n",
    "\n",
    "    model.train()\n",
    "\n",
    "    for batch_id, (token_ids, valid_length, segment_ids, label) in enumerate(notebook.tqdm(train_dataloader)):\n",
    "\n",
    "        optimizer.zero_grad()\n",
    "\n",
    "        token_ids = token_ids.long().to(device)\n",
    "        segment_ids = segment_ids.long().to(device)\n",
    "        valid_length= valid_length\n",
    "        label = label.long().to(device)\n",
    "\n",
    "        out = model(token_ids, valid_length, segment_ids)\n",
    "\n",
    "        loss = loss_fn(out, label)\n",
    "        loss.backward()\n",
    "\n",
    "        torch.nn.utils.clip_grad_norm_(model.parameters(), 1)\n",
    "\n",
    "        optimizer.step()\n",
    "        scheduler.step()  # Update learning rate schedule\n",
    "\n",
    "        train_acc += calc_accuracy(out, label)\n",
    "\n",
    "        if batch_id % 200 == 0:\n",
    "            print(\"epoch {} batch id {} loss {} train acc {}\".format(e+1, batch_id+1, loss.data.cpu().numpy(), train_acc / (batch_id+1)))\n",
    "            \n",
    "\n",
    "    print(\"epoch {} train acc {}\".format(e+1, train_acc / (batch_id+1)))\n",
    "    train_loss_kobert_per_epoch.append(loss.data.cpu().numpy())\n",
    "    train_accuracy_kobert_per_epoch.append(train_acc / (batch_id+1))\n",
    "\n",
    "    model.eval()\n",
    "\n",
    "    for batch_id, (token_ids, valid_length, segment_ids, label) in enumerate(notebook.tqdm(test_dataloader)):\n",
    "\n",
    "        token_ids = token_ids.long().to(device)\n",
    "        segment_ids = segment_ids.long().to(device)\n",
    "        valid_length= valid_length\n",
    "        label = label.long().to(device)\n",
    "\n",
    "        out = model(token_ids, valid_length, segment_ids)\n",
    "        test_acc += calc_accuracy(out, label)\n",
    "\n",
    "    print(\"epoch {} test acc {}\".format(e+1, test_acc / (batch_id+1)))\n",
    "    \n",
    "    kobert_accuracy = test_acc / (batch_id+1)"
   ]
  },
  {
   "cell_type": "markdown",
   "metadata": {},
   "source": [
    "## 3. Conclusion\n",
    "    * 임의의 input 문장이 들어왔을 때 긍정/부정 판별\n",
    "    * 두 개의 모델 Accuracy 비교\n",
    "    * 학습 내용 시각화"
   ]
  },
  {
   "cell_type": "code",
   "execution_count": 22,
   "metadata": {},
   "outputs": [],
   "source": [
    "# text classification with KoBert\n",
    "def predict_input_text(text):\n",
    "    transform = nlp.data.BERTSentenceTransform(\n",
    "                tokenizer.tokenize, max_seq_length=128, vocab=vocab, pad=True, pair=False)\n",
    "\n",
    "    sentence = text\n",
    "    sentence = transform([sentence])\n",
    "\n",
    "    sentence_dataloader = DataLoader(sentence, batch_size=1, shuffle=False)\n",
    "\n",
    "    token_ids, valid_length, segment_ids = sentence_dataloader\n",
    "    token_ids = token_ids.long().to(device)\n",
    "    segment_ids = segment_ids.long().to(device)\n",
    "    valid_length= valid_length\n",
    "\n",
    "    out = model(token_ids, valid_length, segment_ids)\n",
    "    predict = torch.max(out, 1)[1].item()\n",
    "    if predict == 0:\n",
    "        return \"부정적인 문장입니다\"\n",
    "    else:\n",
    "        return \"긍정적인 문장입니다\"\n",
    "\n",
    "    "
   ]
  },
  {
   "cell_type": "code",
   "execution_count": 23,
   "metadata": {},
   "outputs": [
    {
     "data": {
      "text/plain": [
       "'부정적인 문장입니다'"
      ]
     },
     "execution_count": 23,
     "metadata": {},
     "output_type": "execute_result"
    }
   ],
   "source": [
    "predict_input_text('이건 좀... 아니지 않니..?')"
   ]
  },
  {
   "cell_type": "code",
   "execution_count": 24,
   "metadata": {},
   "outputs": [
    {
     "name": "stdout",
     "output_type": "stream",
     "text": [
      "bert_base_multilingual_cased_accuracy : 0.8555933179723503\n",
      "kobert_accuracy : 0.896853007037748\n"
     ]
    }
   ],
   "source": [
    "print(f\"bert_base_multilingual_cased_accuracy : {bert_base_multilingual_cased_accuracy}\")\n",
    "print(f\"kobert_accuracy : {kobert_accuracy}\")"
   ]
  },
  {
   "cell_type": "code",
   "execution_count": 25,
   "metadata": {},
   "outputs": [
    {
     "data": {
      "text/plain": [
       "<AxesSubplot:>"
      ]
     },
     "execution_count": 25,
     "metadata": {},
     "output_type": "execute_result"
    },
    {
     "data": {
      "image/png": "[encoded data removed]",
      "text/plain": [
       "<Figure size 432x288 with 1 Axes>"
      ]
     },
     "metadata": {
      "needs_background": "light"
     },
     "output_type": "display_data"
    }
   ],
   "source": [
    "sns.barplot(x=['bert_base_multilingual_cased_accuracy', 'kobert_accuracy'], y=[bert_base_multilingual_cased_accuracy, kobert_accuracy])"
   ]
  },
  {
   "cell_type": "code",
   "execution_count": 26,
   "metadata": {},
   "outputs": [
    {
     "data": {
      "image/png": "[encoded data removed]",
      "text/plain": [
       "<Figure size 720x576 with 1 Axes>"
      ]
     },
     "metadata": {
      "needs_background": "light"
     },
     "output_type": "display_data"
    }
   ],
   "source": [
    "# visualize the loss bert_multilingual and kobert\n",
    "plt.figure(figsize=(10,8))\n",
    "plt.plot(range(epochs), train_loss_kobert_per_epoch, label='kobert')\n",
    "plt.plot(range(epochs), train_loss_bert_multilingual_cased_per_epoch, label='bert_multilingual')\n",
    "plt.legend()\n",
    "plt.xlabel('epoch')\n",
    "plt.ylabel('train loss')\n",
    "plt.show()"
   ]
  },
  {
   "cell_type": "code",
   "execution_count": 27,
   "metadata": {},
   "outputs": [
    {
     "data": {
      "image/png": "[encoded data removed]",
      "text/plain": [
       "<Figure size 720x576 with 1 Axes>"
      ]
     },
     "metadata": {
      "needs_background": "light"
     },
     "output_type": "display_data"
    }
   ],
   "source": [
    "# visualize the accuracy bert_multilingual and kobert\n",
    "plt.figure(figsize=(10,8))\n",
    "plt.plot(range(epochs), train_accuracy_kobert_per_epoch, label='kobert')\n",
    "plt.plot(range(epochs), validation_accuracy_bert_multilingual_cased_per_epoch, label='bert_multilingual')\n",
    "plt.legend()\n",
    "plt.xlabel('epoch')\n",
    "plt.ylabel('validation accuracy')\n",
    "plt.show()"
   ]
  },
  {
   "cell_type": "code",
   "execution_count": null,
   "metadata": {},
   "outputs": [],
   "source": []
  }
 ],
 "metadata": {
  "kernelspec": {
   "display_name": "PyTorch 1.10 (NGC 21.11/Python 3.8 Conda) on Backend.AI",
   "language": "python",
   "name": "python3"
  },
  "language_info": {
   "codemirror_mode": {
    "name": "ipython",
    "version": 3
   },
   "file_extension": ".py",
   "mimetype": "text/x-python",
   "name": "python",
   "nbconvert_exporter": "python",
   "pygments_lexer": "ipython3",
   "version": "3.7.13"
  },
  "vscode": {
   "interpreter": {
    "hash": "19d29624fa02f72a2f2eb64b5fa4dfbc751609e2b6c88be691c0db207c64cc14"
   }
  }
 },
 "nbformat": 4,
 "nbformat_minor": 2
}
